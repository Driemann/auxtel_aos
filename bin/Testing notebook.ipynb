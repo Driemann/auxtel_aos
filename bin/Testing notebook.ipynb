{
 "cells": [
  {
   "cell_type": "code",
   "execution_count": 1,
   "id": "dbee0a26",
   "metadata": {},
   "outputs": [],
   "source": [
    "import numpy as np\n",
    "import matplotlib.pyplot as plt"
   ]
  },
  {
   "cell_type": "code",
   "execution_count": 22,
   "id": "865d8405",
   "metadata": {},
   "outputs": [
    {
     "data": {
      "image/png": "[encoded data removed]",
      "text/plain": [
       "<Figure size 768x576 with 1 Axes>"
      ]
     },
     "metadata": {},
     "output_type": "display_data"
    }
   ],
   "source": [
    "image1=np.load('image_ip.npy')\n",
    "img = image1[2125:2175, 2475:2525]\n",
    "fig, ax  = plt.subplots(dpi=120)\n",
    "ax.imshow(img, origin=\"lower\", cmap=\"magma\")\n",
    "ax.set(xticks=[], yticks=[])\n",
    "\n",
    "plt.show()"
   ]
  },
  {
   "cell_type": "code",
   "execution_count": 24,
   "id": "cf4f6541",
   "metadata": {},
   "outputs": [
    {
     "data": {
      "text/plain": [
       "array([-9.18052952e-04, -9.66944729e-04,  6.26540478e-05])"
      ]
     },
     "execution_count": 24,
     "metadata": {},
     "output_type": "execute_result"
    }
   ],
   "source": [
    "translation1=np.load('trans_ip.npy')\n",
    "translation1"
   ]
  },
  {
   "cell_type": "code",
   "execution_count": 26,
   "id": "e5b71c0e",
   "metadata": {},
   "outputs": [
    {
     "data": {
      "text/plain": [
       "array([[ 1.00000000e+00,  0.00000000e+00,  6.20381796e-06],\n",
       "       [ 1.48973187e-10,  1.00000000e+00, -2.40131461e-05],\n",
       "       [-6.20381796e-06,  2.40131461e-05,  1.00000000e+00]])"
      ]
     },
     "execution_count": 26,
     "metadata": {},
     "output_type": "execute_result"
    }
   ],
   "source": [
    "rotation1=np.load('rot_ip.npy')\n",
    "rotation1"
   ]
  },
  {
   "cell_type": "code",
   "execution_count": 57,
   "id": "d020fdff",
   "metadata": {},
   "outputs": [],
   "source": [
    "x={}\n",
    "for i in range(2):\n",
    "    a=i\n",
    "    x[a]=i**2\n",
    "    np.save('testing_'+str(i), x[a])"
   ]
  },
  {
   "cell_type": "code",
   "execution_count": 40,
   "id": "caf45e43",
   "metadata": {},
   "outputs": [
    {
     "data": {
      "text/plain": [
       "4"
      ]
     },
     "execution_count": 40,
     "metadata": {},
     "output_type": "execute_result"
    }
   ],
   "source": [
    "x[2]"
   ]
  },
  {
   "cell_type": "code",
   "execution_count": 7,
   "id": "0e798fa7",
   "metadata": {},
   "outputs": [],
   "source": [
    "t0=np.load('trans_0.npy')\n",
    "t1=np.load('trans_1.npy')\n",
    "t2=np.load('trans_2.npy')"
   ]
  },
  {
   "cell_type": "code",
   "execution_count": 8,
   "id": "1e0bff43",
   "metadata": {},
   "outputs": [
    {
     "data": {
      "text/plain": [
       "array([-9.18052952e-04, -9.66944729e-04,  6.26540478e-05])"
      ]
     },
     "execution_count": 8,
     "metadata": {},
     "output_type": "execute_result"
    }
   ],
   "source": [
    "t0"
   ]
  },
  {
   "cell_type": "code",
   "execution_count": 9,
   "id": "c3d23e30",
   "metadata": {},
   "outputs": [
    {
     "data": {
      "text/plain": [
       "array([-9.18052952e-04, -9.66944729e-04,  6.26540478e-05])"
      ]
     },
     "execution_count": 9,
     "metadata": {},
     "output_type": "execute_result"
    }
   ],
   "source": [
    "t1"
   ]
  },
  {
   "cell_type": "code",
   "execution_count": 10,
   "id": "78fd86db",
   "metadata": {},
   "outputs": [
    {
     "ename": "NameError",
     "evalue": "name 'image1' is not defined",
     "output_type": "error",
     "traceback": [
      "\u001b[0;31m---------------------------------------------------------------------------\u001b[0m",
      "\u001b[0;31mNameError\u001b[0m                                 Traceback (most recent call last)",
      "Cell \u001b[0;32mIn [10], line 2\u001b[0m\n\u001b[1;32m      1\u001b[0m rot1\u001b[38;5;241m=\u001b[39mnp\u001b[38;5;241m.\u001b[39mload(\u001b[38;5;124m'\u001b[39m\u001b[38;5;124mrot_1.npy\u001b[39m\u001b[38;5;124m'\u001b[39m)\n\u001b[0;32m----> 2\u001b[0m img \u001b[38;5;241m=\u001b[39m \u001b[43mimage1\u001b[49m[\u001b[38;5;241m2125\u001b[39m:\u001b[38;5;241m2175\u001b[39m, \u001b[38;5;241m2475\u001b[39m:\u001b[38;5;241m2525\u001b[39m]\n\u001b[1;32m      3\u001b[0m fig, ax  \u001b[38;5;241m=\u001b[39m plt\u001b[38;5;241m.\u001b[39msubplots(dpi\u001b[38;5;241m=\u001b[39m\u001b[38;5;241m120\u001b[39m)\n\u001b[1;32m      4\u001b[0m ax\u001b[38;5;241m.\u001b[39mimshow(img, origin\u001b[38;5;241m=\u001b[39m\u001b[38;5;124m\"\u001b[39m\u001b[38;5;124mlower\u001b[39m\u001b[38;5;124m\"\u001b[39m, cmap\u001b[38;5;241m=\u001b[39m\u001b[38;5;124m\"\u001b[39m\u001b[38;5;124mmagma\u001b[39m\u001b[38;5;124m\"\u001b[39m)\n",
      "\u001b[0;31mNameError\u001b[0m: name 'image1' is not defined"
     ]
    }
   ],
   "source": [
    "rot1=np.load('rot_1.npy')\n",
    "img = image1[2125:2175, 2475:2525]\n",
    "fig, ax  = plt.subplots(dpi=120)\n",
    "ax.imshow(img, origin=\"lower\", cmap=\"magma\")\n",
    "ax.set(xticks=[], yticks=[])\n",
    "\n",
    "plt.show()"
   ]
  },
  {
   "cell_type": "code",
   "execution_count": 16,
   "id": "0b8a4bba",
   "metadata": {},
   "outputs": [],
   "source": [
    "import numpy as np \n",
    "import matplotlib.pyplot as plt \n",
    "\n",
    "import batoid\n",
    "import galsim\n",
    "import wfsim\n",
    "\n",
    "auxtel0 = batoid.Optic.fromYaml(\"AuxTel.yaml\")\n",
    "bandpass = galsim.Bandpass(\"LSST_r.dat\", wave_type='nm')\n",
    "\n",
    "obs_params = {\n",
    "    \"zenith\": 30 * galsim.degrees,\n",
    "    \"raw_seeing\": 0.7 * galsim.arcsec,\n",
    "    \"temperature\": 293, \n",
    "    \"pressure\": 69, \n",
    "    \"H2O_pressure\": 1, \n",
    "    \"wavelength\": bandpass.effective_wavelength,\n",
    "    \"exptime\": 30, \n",
    "}\n",
    "atm_params = {\n",
    "    \"screen_size\": 819.2,\n",
    "    \"screen_scale\": 0.1,\n",
    "    \"nproc\": 6,\n",
    "}\n",
    "\n",
    "def create_simulator(telescope: batoid.Optic) -> wfsim.SimpleSimulator:\n",
    "   \n",
    "    rng = np.random.default_rng(42)\n",
    "\n",
    "    simulator = wfsim.SimpleSimulator(\n",
    "        obs_params,\n",
    "        atm_params,\n",
    "        telescope,\n",
    "        bandpass,\n",
    "        shape=(4000, 4000),\n",
    "        rng=rng,\n",
    "    )\n",
    "\n",
    "    return simulator\n",
    "\n",
    "\n",
    "Trans_data={}\n",
    "Rot_data={}\n",
    "image={}\n",
    "for i in range(4):\n",
    "    a=i\n",
    "    rng = np.random.default_rng(0)\n",
    "    thx = np.deg2rad(0)\n",
    "    thy = np.deg2rad(0)\n",
    "    star_temp = rng.uniform(4_000, 10_000) \n",
    "    sed = wfsim.BBSED(star_temp) \n",
    "    flux = rng.integers(1_000_000, 2_000_000)\n",
    "\n",
    "\n",
    "    Trans_data[a] = np.array([\n",
    "    rng.uniform(-0.001, 0.001),  # meters\n",
    "    rng.uniform(-0.001, 0.001),\n",
    "    rng.uniform(-0.0001, 0.0001),\n",
    "])\n",
    "    Rot_data[a] = (\n",
    "    batoid.RotX(np.deg2rad(rng.uniform(-0.1, 0.1)/60)) @\n",
    "    batoid.RotY(np.deg2rad(rng.uniform(-0.1, 0.1)/60))\n",
    ")\n",
    "    intra_perturbed = (\n",
    "    auxtel0\n",
    "    .withGloballyShiftedOptic(\"M2\", Trans_data[a])\n",
    "    .withLocallyRotatedOptic(\"M2\", Rot_data[a])\n",
    ")"
   ]
  },
  {
   "cell_type": "code",
   "execution_count": 22,
   "id": "c3ff5cff",
   "metadata": {},
   "outputs": [
    {
     "data": {
      "text/plain": [
       "7821.770123928725"
      ]
     },
     "execution_count": 22,
     "metadata": {},
     "output_type": "execute_result"
    }
   ],
   "source": [
    "star_temp"
   ]
  },
  {
   "cell_type": "code",
   "execution_count": 18,
   "id": "aa2fed2f",
   "metadata": {},
   "outputs": [
    {
     "data": {
      "text/plain": [
       "array([-9.18052952e-04, -9.66944729e-04,  6.26540478e-05])"
      ]
     },
     "execution_count": 18,
     "metadata": {},
     "output_type": "execute_result"
    }
   ],
   "source": [
    "Trans_data[1]"
   ]
  },
  {
   "cell_type": "code",
   "execution_count": 40,
   "id": "32edee17",
   "metadata": {},
   "outputs": [],
   "source": [
    "import numpy as np # standard package for doing calculations\n",
    "import matplotlib.pyplot as plt # standard package for plotting\n",
    "\n",
    "import batoid\n",
    "import galsim\n",
    "import wfsim"
   ]
  },
  {
   "cell_type": "code",
   "execution_count": 42,
   "id": "5d6ff9c8",
   "metadata": {},
   "outputs": [],
   "source": [
    "auxtel0 = batoid.Optic.fromYaml(\"AuxTel.yaml\")\n",
    "bandpass = galsim.Bandpass(\"LSST_r.dat\", wave_type='nm')\n",
    "rng = np.random.default_rng(0)\n",
    "Trans_data={}\n",
    "Rot_data={}\n",
    "image={}\n",
    "for i in range(4):\n",
    "    a=i\n",
    "    thx = np.deg2rad(0)\n",
    "    thy = np.deg2rad(0)\n",
    "    star_temp = rng.uniform(4_000, 10_000) \n",
    "    sed = wfsim.BBSED(star_temp) \n",
    "    flux = rng.integers(1_000_000, 2_000_000)\n",
    "\n",
    "\n",
    "    Trans_data[a] = np.array([\n",
    "    rng.uniform(-0.001, 0.001),  # meters\n",
    "    rng.uniform(-0.001, 0.001),\n",
    "    rng.uniform(-0.0001, 0.0001),\n",
    "])\n",
    "    Rot_data[a] = (\n",
    "    batoid.RotX(np.deg2rad(rng.uniform(-0.1, 0.1)/60)) @\n",
    "    batoid.RotY(np.deg2rad(rng.uniform(-0.1, 0.1)/60))\n",
    ")\n",
    "    intra_perturbed = (\n",
    "    auxtel0\n",
    "    .withGloballyShiftedOptic(\"M2\", Trans_data[a])\n",
    "    .withLocallyRotatedOptic(\"M2\", Rot_data[a])\n",
    ")"
   ]
  },
  {
   "cell_type": "code",
   "execution_count": 48,
   "id": "240457bd",
   "metadata": {},
   "outputs": [
    {
     "data": {
      "text/plain": [
       "CompoundOptic([Baffle(Plane(), obscuration=ObscCircle(0.2115), name='Baffle_M2c', coordSys=CoordSys(array([0. , 0. , 2.7]), array([[1., 0., 0.], [0., 1., 0.], [0., 0., 1.]])), inMedium=Air(69.328, 293.15, 1.067), outMedium=Air(69.328, 293.15, 1.067)), Baffle(Plane(), obscuration=ObscNegation(ObscCircle(0.6)), name='Baffle_M1', coordSys=CoordSys(array([0.     , 0.     , 0.04768]), array([[1., 0., 0.], [0., 1., 0.], [0., 0., 1.]])), inMedium=Air(69.328, 293.15, 1.067), outMedium=Air(69.328, 293.15, 1.067)), Mirror(Quadric(6.605995, -1.007514), obscuration=ObscNegation(ObscCircle(0.635)), name='M1', coordSys=CoordSys(array([0., 0., 0.]), array([[1., 0., 0.], [0., 1., 0.], [0., 0., 1.]])), inMedium=Air(69.328, 293.15, 1.067), outMedium=Air(69.328, 293.15, 1.067)), Baffle(Plane(), obscuration=ObscNegation(ObscCircle(0.125)), name='Baffle_M2a', coordSys=CoordSys(array([0.      , 0.      , 2.692074]), array([[1., 0., 0.], [0., 1., 0.], [0., 0., 1.]])), inMedium=Air(69.328, 293.15, 1.067), outMedium=Air(69.328, 293.15, 1.067)), Baffle(Plane(), obscuration=ObscNegation(ObscCircle(0.121)), name='Baffle_M2b', coordSys=CoordSys(array([0.      , 0.      , 2.702544]), array([[1., 0., 0.], [0., 1., 0.], [0., 0., 1.]])), inMedium=Air(69.328, 293.15, 1.067), outMedium=Air(69.328, 293.15, 1.067)), Mirror(Quadric(1.41517, -1.920444), obscuration=ObscNegation(ObscCircle(0.133)), name='M2', coordSys=CoordSys(array([-7.51433447e-04,  3.41248829e-04,  2.70364344e+00]), array([[ 1.00000000e+00,  0.00000000e+00, -6.76736557e-06], [-4.54281995e-11,  1.00000000e+00, -6.71283368e-06], [ 6.76736557e-06,  6.71283368e-06,  1.00000000e+00]])), inMedium=Air(69.328, 293.15, 1.067), outMedium=Air(69.328, 293.15, 1.067)), Mirror(Plane(), obscuration=ObscNegation(ObscCircle(0.1515)), name='M3', coordSys=CoordSys(array([0.   , 0.   , 0.206]), array([[ 1.        ,  0.        ,  0.        ], [ 0.        ,  0.70710678, -0.70710678], [ 0.        ,  0.70710678,  0.70710678]])), inMedium=Air(69.328, 293.15, 1.067), outMedium=Air(69.328, 293.15, 1.067)), CompoundOptic([Lens([RefractiveInterface(Tilted(0.0, 0.02), obscuration=ObscNegation(ObscCircle(0.1)), name='L1_entrance', coordSys=CoordSys(array([ 0.        , -0.86266539,  0.206     ]), array([[ 1.000000e+00,  0.000000e+00,  0.000000e+00], [ 0.000000e+00,  6.123234e-17, -1.000000e+00], [ 0.000000e+00,  1.000000e+00,  6.123234e-17]])), inMedium=Air(69.328, 293.15, 1.067), outMedium=SellmeierMedium((0.6961663, 0.4079426, 0.8974794, 0.00467914825849, 0.013512063073959999, 97.93400253792099))), RefractiveInterface(Plane(), obscuration=ObscNegation(ObscCircle(0.1)), name='L1_exit', coordSys=CoordSys(array([ 0.        , -0.87044539,  0.206     ]), array([[ 1.000000e+00,  0.000000e+00,  0.000000e+00], [ 0.000000e+00,  6.123234e-17, -1.000000e+00], [ 0.000000e+00,  1.000000e+00,  6.123234e-17]])), inMedium=SellmeierMedium((0.6961663, 0.4079426, 0.8974794, 0.00467914825849, 0.013512063073959999, 97.93400253792099)), outMedium=Air(69.328, 293.15, 1.067))], name='L1', coordSys=CoordSys(array([ 0.        , -0.86266539,  0.206     ]), array([[ 1.000000e+00,  0.000000e+00,  0.000000e+00], [ 0.000000e+00,  6.123234e-17, -1.000000e+00], [ 0.000000e+00,  1.000000e+00,  6.123234e-17]])), inMedium=Air(69.328, 293.15, 1.067), outMedium=Air(69.328, 293.15, 1.067)), Lens([RefractiveInterface(Tilted(0.0, 0.1), obscuration=ObscNegation(ObscCircle(0.1)), name='Filter_entrance', coordSys=CoordSys(array([ 0.        , -1.20466539,  0.206     ]), array([[ 1.000000e+00,  0.000000e+00,  0.000000e+00], [ 0.000000e+00,  6.123234e-17, -1.000000e+00], [ 0.000000e+00,  1.000000e+00,  6.123234e-17]])), inMedium=Air(69.328, 293.15, 1.067), outMedium=SellmeierMedium((0.6961663, 0.4079426, 0.8974794, 0.00467914825849, 0.013512063073959999, 97.93400253792099))), RefractiveInterface(Tilted(0.0, 0.1), obscuration=ObscNegation(ObscCircle(0.1)), name='Filter_exit', coordSys=CoordSys(array([ 0.        , -1.20966539,  0.206     ]), array([[ 1.000000e+00,  0.000000e+00,  0.000000e+00], [ 0.000000e+00,  6.123234e-17, -1.000000e+00], [ 0.000000e+00,  1.000000e+00,  6.123234e-17]])), inMedium=SellmeierMedium((0.6961663, 0.4079426, 0.8974794, 0.00467914825849, 0.013512063073959999, 97.93400253792099)), outMedium=Air(69.328, 293.15, 1.067))], name='Filter', coordSys=CoordSys(array([ 0.        , -1.20466539,  0.206     ]), array([[ 1.000000e+00,  0.000000e+00,  0.000000e+00], [ 0.000000e+00,  6.123234e-17, -1.000000e+00], [ 0.000000e+00,  1.000000e+00,  6.123234e-17]])), inMedium=Air(69.328, 293.15, 1.067), outMedium=Air(69.328, 293.15, 1.067)), Lens([RefractiveInterface(Tilted(0.0, -0.02), obscuration=ObscNegation(ObscCircle(0.1)), name='L2_entrance', coordSys=CoordSys(array([ 0.        , -1.23166539,  0.206     ]), array([[ 1.000000e+00,  0.000000e+00,  0.000000e+00], [ 0.000000e+00,  6.123234e-17, -1.000000e+00], [ 0.000000e+00,  1.000000e+00,  6.123234e-17]])), inMedium=Air(69.328, 293.15, 1.067), outMedium=SellmeierMedium((0.6961663, 0.4079426, 0.8974794, 0.00467914825849, 0.013512063073959999, 97.93400253792099))), RefractiveInterface(Plane(), obscuration=ObscNegation(ObscCircle(0.1)), name='L2_exit', coordSys=CoordSys(array([ 0.        , -1.24166539,  0.206     ]), array([[ 1.000000e+00,  0.000000e+00,  0.000000e+00], [ 0.000000e+00,  6.123234e-17, -1.000000e+00], [ 0.000000e+00,  1.000000e+00,  6.123234e-17]])), inMedium=SellmeierMedium((0.6961663, 0.4079426, 0.8974794, 0.00467914825849, 0.013512063073959999, 97.93400253792099)), outMedium=Air(69.328, 293.15, 1.067))], name='L2', coordSys=CoordSys(array([ 0.        , -1.23166539,  0.206     ]), array([[ 1.000000e+00,  0.000000e+00,  0.000000e+00], [ 0.000000e+00,  6.123234e-17, -1.000000e+00], [ 0.000000e+00,  1.000000e+00,  6.123234e-17]])), inMedium=Air(69.328, 293.15, 1.067), outMedium=Air(69.328, 293.15, 1.067)), Lens([RefractiveInterface(Tilted(0.0, 0.02), obscuration=ObscNegation(ObscCircle(0.1)), name='L3_entrance', coordSys=CoordSys(array([ 0.        , -1.36871539,  0.206     ]), array([[ 1.000000e+00,  0.000000e+00,  0.000000e+00], [ 0.000000e+00,  6.123234e-17, -1.000000e+00], [ 0.000000e+00,  1.000000e+00,  6.123234e-17]])), inMedium=Air(69.328, 293.15, 1.067), outMedium=SellmeierMedium((0.6961663, 0.4079426, 0.8974794, 0.00467914825849, 0.013512063073959999, 97.93400253792099))), RefractiveInterface(Plane(), obscuration=ObscNegation(ObscCircle(0.1)), name='L3_exit', coordSys=CoordSys(array([ 0.        , -1.37651539,  0.206     ]), array([[ 1.000000e+00,  0.000000e+00,  0.000000e+00], [ 0.000000e+00,  6.123234e-17, -1.000000e+00], [ 0.000000e+00,  1.000000e+00,  6.123234e-17]])), inMedium=SellmeierMedium((0.6961663, 0.4079426, 0.8974794, 0.00467914825849, 0.013512063073959999, 97.93400253792099)), outMedium=Air(69.328, 293.15, 1.067))], name='L3', coordSys=CoordSys(array([ 0.        , -1.36871539,  0.206     ]), array([[ 1.000000e+00,  0.000000e+00,  0.000000e+00], [ 0.000000e+00,  6.123234e-17, -1.000000e+00], [ 0.000000e+00,  1.000000e+00,  6.123234e-17]])), inMedium=Air(69.328, 293.15, 1.067), outMedium=Air(69.328, 293.15, 1.067)), Detector(Plane(), obscuration=ObscNegation(ObscCircle(0.1)), name='Detector', coordSys=CoordSys(array([ 0.        , -1.43170339,  0.206     ]), array([[ 1.000000e+00,  0.000000e+00,  0.000000e+00], [ 0.000000e+00,  6.123234e-17, -1.000000e+00], [ 0.000000e+00,  1.000000e+00,  6.123234e-17]])), inMedium=Air(69.328, 293.15, 1.067), outMedium=Air(69.328, 293.15, 1.067))], name='LATISS', coordSys=CoordSys(array([ 0.        , -0.86266539,  0.206     ]), array([[ 1.000000e+00,  0.000000e+00,  0.000000e+00], [ 0.000000e+00,  6.123234e-17, -1.000000e+00], [ 0.000000e+00,  1.000000e+00,  6.123234e-17]])), inMedium=Air(69.328, 293.15, 1.067), outMedium=Air(69.328, 293.15, 1.067))], name='AuxTel', coordSys=CoordSys(array([0., 0., 0.]), array([[1., 0., 0.], [0., 1., 0.], [0., 0., 1.]])), inMedium=Air(69.328, 293.15, 1.067), outMedium=Air(69.328, 293.15, 1.067))"
      ]
     },
     "execution_count": 48,
     "metadata": {},
     "output_type": "execute_result"
    }
   ],
   "source": [
    "intra_perturbed"
   ]
  },
  {
   "cell_type": "code",
   "execution_count": null,
   "id": "2d166edd",
   "metadata": {},
   "outputs": [],
   "source": []
  }
 ],
 "metadata": {
  "kernelspec": {
   "display_name": "AuxTel AOS",
   "language": "python",
   "name": "auxtel_aos"
  },
  "language_info": {
   "codemirror_mode": {
    "name": "ipython",
    "version": 3
   },
   "file_extension": ".py",
   "mimetype": "text/x-python",
   "name": "python",
   "nbconvert_exporter": "python",
   "pygments_lexer": "ipython3",
   "version": "3.9.15"
  }
 },
 "nbformat": 4,
 "nbformat_minor": 5
}
