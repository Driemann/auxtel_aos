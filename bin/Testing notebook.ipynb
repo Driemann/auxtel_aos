{
 "cells": [
  {
   "cell_type": "code",
   "execution_count": 1,
   "id": "dbee0a26",
   "metadata": {},
   "outputs": [],
   "source": [
    "import numpy as np\n",
    "import matplotlib.pyplot as plt"
   ]
  },
  {
   "cell_type": "code",
   "execution_count": 22,
   "id": "865d8405",
   "metadata": {},
   "outputs": [
    {
     "data": {
      "image/png": "[encoded data removed]",
      "text/plain": [
       "<Figure size 768x576 with 1 Axes>"
      ]
     },
     "metadata": {},
     "output_type": "display_data"
    }
   ],
   "source": [
    "image1=np.load('image_ip.npy')\n",
    "img = image1[2125:2175, 2475:2525]\n",
    "fig, ax  = plt.subplots(dpi=120)\n",
    "ax.imshow(img, origin=\"lower\", cmap=\"magma\")\n",
    "ax.set(xticks=[], yticks=[])\n",
    "\n",
    "plt.show()"
   ]
  },
  {
   "cell_type": "code",
   "execution_count": 24,
   "id": "cf4f6541",
   "metadata": {},
   "outputs": [
    {
     "data": {
      "text/plain": [
       "array([-9.18052952e-04, -9.66944729e-04,  6.26540478e-05])"
      ]
     },
     "execution_count": 24,
     "metadata": {},
     "output_type": "execute_result"
    }
   ],
   "source": [
    "translation1=np.load('trans_ip.npy')\n",
    "translation1"
   ]
  },
  {
   "cell_type": "code",
   "execution_count": 26,
   "id": "e5b71c0e",
   "metadata": {},
   "outputs": [
    {
     "data": {
      "text/plain": [
       "array([[ 1.00000000e+00,  0.00000000e+00,  6.20381796e-06],\n",
       "       [ 1.48973187e-10,  1.00000000e+00, -2.40131461e-05],\n",
       "       [-6.20381796e-06,  2.40131461e-05,  1.00000000e+00]])"
      ]
     },
     "execution_count": 26,
     "metadata": {},
     "output_type": "execute_result"
    }
   ],
   "source": [
    "rotation1=np.load('rot_ip.npy')\n",
    "rotation1"
   ]
  },
  {
   "cell_type": "code",
   "execution_count": 57,
   "id": "d020fdff",
   "metadata": {},
   "outputs": [],
   "source": [
    "x={}\n",
    "for i in range(2):\n",
    "    a=i\n",
    "    x[a]=i**2\n",
    "    np.save('testing_'+str(i), x[a])"
   ]
  },
  {
   "cell_type": "code",
   "execution_count": 40,
   "id": "caf45e43",
   "metadata": {},
   "outputs": [
    {
     "data": {
      "text/plain": [
       "4"
      ]
     },
     "execution_count": 40,
     "metadata": {},
     "output_type": "execute_result"
    }
   ],
   "source": [
    "x[2]"
   ]
  },
  {
   "cell_type": "code",
   "execution_count": 7,
   "id": "0e798fa7",
   "metadata": {},
   "outputs": [],
   "source": [
    "t0=np.load('trans_0.npy')\n",
    "t1=np.load('trans_1.npy')\n",
    "t2=np.load('trans_2.npy')"
   ]
  },
  {
   "cell_type": "code",
   "execution_count": 8,
   "id": "1e0bff43",
   "metadata": {},
   "outputs": [
    {
     "data": {
      "text/plain": [
       "array([-9.18052952e-04, -9.66944729e-04,  6.26540478e-05])"
      ]
     },
     "execution_count": 8,
     "metadata": {},
     "output_type": "execute_result"
    }
   ],
   "source": [
    "t0"
   ]
  },
  {
   "cell_type": "code",
   "execution_count": 9,
   "id": "c3d23e30",
   "metadata": {},
   "outputs": [
    {
     "data": {
      "text/plain": [
       "array([-9.18052952e-04, -9.66944729e-04,  6.26540478e-05])"
      ]
     },
     "execution_count": 9,
     "metadata": {},
     "output_type": "execute_result"
    }
   ],
   "source": [
    "t1"
   ]
  },
  {
   "cell_type": "code",
   "execution_count": 10,
   "id": "78fd86db",
   "metadata": {},
   "outputs": [
    {
     "ename": "NameError",
     "evalue": "name 'image1' is not defined",
     "output_type": "error",
     "traceback": [
      "\u001b[0;31m---------------------------------------------------------------------------\u001b[0m",
      "\u001b[0;31mNameError\u001b[0m                                 Traceback (most recent call last)",
      "Cell \u001b[0;32mIn [10], line 2\u001b[0m\n\u001b[1;32m      1\u001b[0m rot1\u001b[38;5;241m=\u001b[39mnp\u001b[38;5;241m.\u001b[39mload(\u001b[38;5;124m'\u001b[39m\u001b[38;5;124mrot_1.npy\u001b[39m\u001b[38;5;124m'\u001b[39m)\n\u001b[0;32m----> 2\u001b[0m img \u001b[38;5;241m=\u001b[39m \u001b[43mimage1\u001b[49m[\u001b[38;5;241m2125\u001b[39m:\u001b[38;5;241m2175\u001b[39m, \u001b[38;5;241m2475\u001b[39m:\u001b[38;5;241m2525\u001b[39m]\n\u001b[1;32m      3\u001b[0m fig, ax  \u001b[38;5;241m=\u001b[39m plt\u001b[38;5;241m.\u001b[39msubplots(dpi\u001b[38;5;241m=\u001b[39m\u001b[38;5;241m120\u001b[39m)\n\u001b[1;32m      4\u001b[0m ax\u001b[38;5;241m.\u001b[39mimshow(img, origin\u001b[38;5;241m=\u001b[39m\u001b[38;5;124m\"\u001b[39m\u001b[38;5;124mlower\u001b[39m\u001b[38;5;124m\"\u001b[39m, cmap\u001b[38;5;241m=\u001b[39m\u001b[38;5;124m\"\u001b[39m\u001b[38;5;124mmagma\u001b[39m\u001b[38;5;124m\"\u001b[39m)\n",
      "\u001b[0;31mNameError\u001b[0m: name 'image1' is not defined"
     ]
    }
   ],
   "source": [
    "rot1=np.load('rot_1.npy')\n",
    "img = image1[2125:2175, 2475:2525]\n",
    "fig, ax  = plt.subplots(dpi=120)\n",
    "ax.imshow(img, origin=\"lower\", cmap=\"magma\")\n",
    "ax.set(xticks=[], yticks=[])\n",
    "\n",
    "plt.show()"
   ]
  },
  {
   "cell_type": "code",
   "execution_count": 16,
   "id": "0b8a4bba",
   "metadata": {},
   "outputs": [],
   "source": [
    "import numpy as np \n",
    "import matplotlib.pyplot as plt \n",
    "\n",
    "import batoid\n",
    "import galsim\n",
    "import wfsim\n",
    "\n",
    "auxtel0 = batoid.Optic.fromYaml(\"AuxTel.yaml\")\n",
    "bandpass = galsim.Bandpass(\"LSST_r.dat\", wave_type='nm')\n",
    "\n",
    "obs_params = {\n",
    "    \"zenith\": 30 * galsim.degrees,\n",
    "    \"raw_seeing\": 0.7 * galsim.arcsec,\n",
    "    \"temperature\": 293, \n",
    "    \"pressure\": 69, \n",
    "    \"H2O_pressure\": 1, \n",
    "    \"wavelength\": bandpass.effective_wavelength,\n",
    "    \"exptime\": 30, \n",
    "}\n",
    "atm_params = {\n",
    "    \"screen_size\": 819.2,\n",
    "    \"screen_scale\": 0.1,\n",
    "    \"nproc\": 6,\n",
    "}\n",
    "\n",
    "def create_simulator(telescope: batoid.Optic) -> wfsim.SimpleSimulator:\n",
    "   \n",
    "    rng = np.random.default_rng(42)\n",
    "\n",
    "    simulator = wfsim.SimpleSimulator(\n",
    "        obs_params,\n",
    "        atm_params,\n",
    "        telescope,\n",
    "        bandpass,\n",
    "        shape=(4000, 4000),\n",
    "        rng=rng,\n",
    "    )\n",
    "\n",
    "    return simulator\n",
    "\n",
    "\n",
    "Trans_data={}\n",
    "Rot_data={}\n",
    "image={}\n",
    "for i in range(4):\n",
    "    a=i\n",
    "    rng = np.random.default_rng(0)\n",
    "    thx = np.deg2rad(0)\n",
    "    thy = np.deg2rad(0)\n",
    "    star_temp = rng.uniform(4_000, 10_000) \n",
    "    sed = wfsim.BBSED(star_temp) \n",
    "    flux = rng.integers(1_000_000, 2_000_000)\n",
    "\n",
    "\n",
    "    Trans_data[a] = np.array([\n",
    "    rng.uniform(-0.001, 0.001),  # meters\n",
    "    rng.uniform(-0.001, 0.001),\n",
    "    rng.uniform(-0.0001, 0.0001),\n",
    "])\n",
    "    Rot_data[a] = (\n",
    "    batoid.RotX(np.deg2rad(rng.uniform(-0.1, 0.1)/60)) @\n",
    "    batoid.RotY(np.deg2rad(rng.uniform(-0.1, 0.1)/60))\n",
    ")\n",
    "    intra_perturbed = (\n",
    "    auxtel0\n",
    "    .withGloballyShiftedOptic(\"M2\", Trans_data[a])\n",
    "    .withLocallyRotatedOptic(\"M2\", Rot_data[a])\n",
    ")"
   ]
  },
  {
   "cell_type": "code",
   "execution_count": 22,
   "id": "c3ff5cff",
   "metadata": {},
   "outputs": [
    {
     "data": {
      "text/plain": [
       "7821.770123928725"
      ]
     },
     "execution_count": 22,
     "metadata": {},
     "output_type": "execute_result"
    }
   ],
   "source": [
    "star_temp"
   ]
  },
  {
   "cell_type": "code",
   "execution_count": 18,
   "id": "aa2fed2f",
   "metadata": {},
   "outputs": [
    {
     "data": {
      "text/plain": [
       "array([-9.18052952e-04, -9.66944729e-04,  6.26540478e-05])"
      ]
     },
     "execution_count": 18,
     "metadata": {},
     "output_type": "execute_result"
    }
   ],
   "source": [
    "Trans_data[1]"
   ]
  },
  {
   "cell_type": "code",
   "execution_count": 1,
   "id": "32edee17",
   "metadata": {},
   "outputs": [],
   "source": [
    "import numpy as np # standard package for doing calculations\n",
    "import matplotlib.pyplot as plt # standard package for plotting\n",
    "\n",
    "import batoid\n",
    "import galsim\n",
    "import wfsim"
   ]
  },
  {
   "cell_type": "code",
   "execution_count": 6,
   "id": "7466f987",
   "metadata": {},
   "outputs": [],
   "source": [
    "t0=np.load('rot_0.npy')\n",
    "t1=np.load('rot_1.npy')"
   ]
  },
  {
   "cell_type": "code",
   "execution_count": 7,
   "id": "59e300ba",
   "metadata": {},
   "outputs": [
    {
     "data": {
      "text/plain": [
       "array([[ 1.00000000e+00,  0.00000000e+00,  6.20381796e-06],\n",
       "       [ 1.48973187e-10,  1.00000000e+00, -2.40131461e-05],\n",
       "       [-6.20381796e-06,  2.40131461e-05,  1.00000000e+00]])"
      ]
     },
     "execution_count": 7,
     "metadata": {},
     "output_type": "execute_result"
    }
   ],
   "source": [
    "t0"
   ]
  },
  {
   "cell_type": "code",
   "execution_count": null,
   "id": "ac0dcdae",
   "metadata": {},
   "outputs": [],
   "source": []
  },
  {
   "cell_type": "code",
   "execution_count": 14,
   "id": "b08863c2",
   "metadata": {},
   "outputs": [
    {
     "data": {
      "image/png": "[encoded data removed]",
      "text/plain": [
       "<Figure size 768x576 with 1 Axes>"
      ]
     },
     "metadata": {},
     "output_type": "display_data"
    }
   ],
   "source": [
    "image0=np.load('image_0.npy')\n",
    "img0 = image0[2125:2175, 2475:2525]\n",
    "fig, ax  = plt.subplots(dpi=120)\n",
    "ax.imshow(img0, origin=\"lower\", cmap=\"magma\")\n",
    "ax.set(xticks=[], yticks=[])\n",
    "\n",
    "plt.show()"
   ]
  },
  {
   "cell_type": "code",
   "execution_count": 24,
   "id": "e99274cf",
   "metadata": {},
   "outputs": [
    {
     "data": {
      "image/png": "[encoded data removed]",
      "text/plain": [
       "<Figure size 768x576 with 1 Axes>"
      ]
     },
     "metadata": {},
     "output_type": "display_data"
    }
   ],
   "source": [
    "image1=np.load('image_1.npy')\n",
    "img1 = image1[1225:1275, 1875:1925]\n",
    "fig, ax  = plt.subplots(dpi=120)\n",
    "ax.imshow(img1, origin=\"lower\", cmap=\"magma\")\n",
    "ax.set(xticks=[], yticks=[])\n",
    "\n",
    "plt.show()"
   ]
  },
  {
   "cell_type": "code",
   "execution_count": 36,
   "id": "c1763910",
   "metadata": {},
   "outputs": [
    {
     "data": {
      "image/png": "[encoded data removed]",
      "text/plain": [
       "<Figure size 768x576 with 1 Axes>"
      ]
     },
     "metadata": {},
     "output_type": "display_data"
    }
   ],
   "source": [
    "image2=np.load('image_2.npy')\n",
    "img2 = image2[1750:1800, 1915:1965]\n",
    "fig, ax  = plt.subplots(dpi=120)\n",
    "ax.imshow(img2, origin=\"lower\", cmap=\"magma\")\n",
    "ax.set(xticks=[], yticks=[])\n",
    "\n",
    "plt.show()"
   ]
  },
  {
   "cell_type": "code",
   "execution_count": 43,
   "id": "587ad5ee",
   "metadata": {},
   "outputs": [
    {
     "data": {
      "image/png": "[encoded data removed]",
      "text/plain": [
       "<Figure size 768x576 with 1 Axes>"
      ]
     },
     "metadata": {},
     "output_type": "display_data"
    }
   ],
   "source": [
    "image3=np.load('image_3.npy')\n",
    "img3 = image1[1225:1275, 1875:1925]\n",
    "fig, ax  = plt.subplots(dpi=120)\n",
    "ax.imshow(img3, origin=\"lower\", cmap=\"magma\")\n",
    "ax.set(xticks=[], yticks=[])\n",
    "\n",
    "plt.show()"
   ]
  },
  {
   "cell_type": "code",
   "execution_count": null,
   "id": "882f8bf8",
   "metadata": {},
   "outputs": [],
   "source": []
  }
 ],
 "metadata": {
  "kernelspec": {
   "display_name": "AuxTel AOS",
   "language": "python",
   "name": "auxtel_aos"
  },
  "language_info": {
   "codemirror_mode": {
    "name": "ipython",
    "version": 3
   },
   "file_extension": ".py",
   "mimetype": "text/x-python",
   "name": "python",
   "nbconvert_exporter": "python",
   "pygments_lexer": "ipython3",
   "version": "3.9.15"
  }
 },
 "nbformat": 4,
 "nbformat_minor": 5
}
