{
 "cells": [
  {
   "cell_type": "code",
   "execution_count": 6,
   "id": "dbee0a26",
   "metadata": {},
   "outputs": [],
   "source": [
    "import numpy as np\n",
    "import matplotlib.pyplot as plt"
   ]
  },
  {
   "cell_type": "code",
   "execution_count": 22,
   "id": "865d8405",
   "metadata": {},
   "outputs": [
    {
     "data": {
      "image/png": "[encoded data removed]",
      "text/plain": [
       "<Figure size 768x576 with 1 Axes>"
      ]
     },
     "metadata": {},
     "output_type": "display_data"
    }
   ],
   "source": [
    "image1=np.load('image_ip.npy')\n",
    "img = image1[2125:2175, 2475:2525]\n",
    "fig, ax  = plt.subplots(dpi=120)\n",
    "ax.imshow(img, origin=\"lower\", cmap=\"magma\")\n",
    "ax.set(xticks=[], yticks=[])\n",
    "\n",
    "plt.show()"
   ]
  },
  {
   "cell_type": "code",
   "execution_count": 24,
   "id": "cf4f6541",
   "metadata": {},
   "outputs": [
    {
     "data": {
      "text/plain": [
       "array([-9.18052952e-04, -9.66944729e-04,  6.26540478e-05])"
      ]
     },
     "execution_count": 24,
     "metadata": {},
     "output_type": "execute_result"
    }
   ],
   "source": [
    "translation1=np.load('trans_ip.npy')\n",
    "translation1"
   ]
  },
  {
   "cell_type": "code",
   "execution_count": 26,
   "id": "e5b71c0e",
   "metadata": {},
   "outputs": [
    {
     "data": {
      "text/plain": [
       "array([[ 1.00000000e+00,  0.00000000e+00,  6.20381796e-06],\n",
       "       [ 1.48973187e-10,  1.00000000e+00, -2.40131461e-05],\n",
       "       [-6.20381796e-06,  2.40131461e-05,  1.00000000e+00]])"
      ]
     },
     "execution_count": 26,
     "metadata": {},
     "output_type": "execute_result"
    }
   ],
   "source": [
    "rotation1=np.load('rot_ip.npy')\n",
    "rotation1"
   ]
  },
  {
   "cell_type": "code",
   "execution_count": 57,
   "id": "d020fdff",
   "metadata": {},
   "outputs": [],
   "source": [
    "x={}\n",
    "for i in range(2):\n",
    "    a=i\n",
    "    x[a]=i**2\n",
    "    np.save('testing_'+str(i), x[a])"
   ]
  },
  {
   "cell_type": "code",
   "execution_count": 40,
   "id": "caf45e43",
   "metadata": {},
   "outputs": [
    {
     "data": {
      "text/plain": [
       "4"
      ]
     },
     "execution_count": 40,
     "metadata": {},
     "output_type": "execute_result"
    }
   ],
   "source": [
    "x[2]"
   ]
  },
  {
   "cell_type": "code",
   "execution_count": null,
   "id": "78fd86db",
   "metadata": {},
   "outputs": [],
   "source": []
  }
 ],
 "metadata": {
  "kernelspec": {
   "display_name": "AuxTel AOS",
   "language": "python",
   "name": "auxtel_aos"
  },
  "language_info": {
   "codemirror_mode": {
    "name": "ipython",
    "version": 3
   },
   "file_extension": ".py",
   "mimetype": "text/x-python",
   "name": "python",
   "nbconvert_exporter": "python",
   "pygments_lexer": "ipython3",
   "version": "3.9.15"
  }
 },
 "nbformat": 4,
 "nbformat_minor": 5
}
