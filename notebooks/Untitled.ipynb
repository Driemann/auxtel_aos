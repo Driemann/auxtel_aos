{
 "cells": [
  {
   "cell_type": "code",
   "execution_count": null,
   "id": "d9bfe2e3-828c-4185-8e8b-3603e4c60229",
   "metadata": {},
   "outputs": [],
   "source": []
  }
 ],
 "metadata": {
  "kernelspec": {
   "display_name": "ml-aos",
   "language": "python",
   "name": "ml-aos"
  },
  "language_info": {
   "codemirror_mode": {
    "name": "ipython",
    "version": 3
   },
   "file_extension": ".py",
   "mimetype": "text/x-python",
   "name": "python",
   "nbconvert_exporter": "python",
   "pygments_lexer": "ipython3",
   "version": "3.9.16"
  }
 },
 "nbformat": 4,
 "nbformat_minor": 5
}
