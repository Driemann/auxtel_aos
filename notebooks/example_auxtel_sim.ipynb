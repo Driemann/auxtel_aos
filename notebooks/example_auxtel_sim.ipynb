{
 "cells": [
  {
   "cell_type": "markdown",
   "metadata": {},
   "source": [
    "This notebook will demonstrate how to simulate images for the Rubin Auxiliary Telescope (AuxTel).\n",
    "\n",
    "Our simulations will depend heavily on two packages:\n",
    "- `galsim` which is an astronomical image simulation toolkit\n",
    "- `batoid` which is a raytracing package that we use to simuate the optics of the telescope\n",
    "\n",
    "We will also use `wfsim`, which is a little wrapper package that connects elements of `galsim` and `batoid`, making it easy to quickly simulate images for the AOS.\n",
    "\n",
    "Let's import these packages (plus `numpy` and `matplotlib`):"
   ]
  },
  {
   "cell_type": "code",
   "execution_count": 1,
   "metadata": {},
   "outputs": [],
   "source": [
    "import numpy as np # standard package for doing calculations\n",
    "import matplotlib.pyplot as plt # standard package for plotting\n",
    "\n",
    "import batoid\n",
    "import galsim\n",
    "import wfsim"
   ]
  },
  {
   "cell_type": "markdown",
   "metadata": {},
   "source": [
    "First, let's create a `batoid` simulator for the unperturbed AuxTel:"
   ]
  },
  {
   "cell_type": "code",
   "execution_count": 2,
   "metadata": {},
   "outputs": [],
   "source": [
    "auxtel0 = batoid.Optic.fromYaml(\"AuxTel.yaml\")"
   ]
  },
  {
   "cell_type": "markdown",
   "metadata": {},
   "source": [
    "#### To do: setup atmosphere, etc, and create a simple simulator with wfsim"
   ]
  },
  {
   "cell_type": "code",
   "execution_count": null,
   "metadata": {},
   "outputs": [],
   "source": []
  },
  {
   "cell_type": "markdown",
   "metadata": {},
   "source": [
    "#### To do: Simulate a star, with a position, temperature, flux, then add a background"
   ]
  },
  {
   "cell_type": "code",
   "execution_count": null,
   "metadata": {},
   "outputs": [],
   "source": []
  },
  {
   "cell_type": "markdown",
   "metadata": {},
   "source": [
    "#### To do: Plot the star. Talk about how it's small because it is in focus."
   ]
  },
  {
   "cell_type": "code",
   "execution_count": null,
   "metadata": {},
   "outputs": [],
   "source": []
  },
  {
   "cell_type": "markdown",
   "metadata": {},
   "source": [
    "#### To do: push the telescope out of focus, and plot simulate the star again."
   ]
  },
  {
   "cell_type": "code",
   "execution_count": null,
   "metadata": {},
   "outputs": [],
   "source": []
  },
  {
   "cell_type": "markdown",
   "metadata": {},
   "source": [
    "#### To do: now perturb the telescope, and simulate again"
   ]
  },
  {
   "cell_type": "code",
   "execution_count": null,
   "metadata": {},
   "outputs": [],
   "source": []
  },
  {
   "cell_type": "markdown",
   "metadata": {},
   "source": [
    "#### To do: wrap up and tell Dominik to play around with different perturbation sizes"
   ]
  },
  {
   "cell_type": "markdown",
   "metadata": {},
   "source": [
    "For these simulations, we have only concerned ourselves with optical misalignment.\n",
    "However, for the larger Rubin Telescope, we also need to worry about the bending of the mirrors.\n",
    "[This notebook](https://colab.research.google.com/drive/1YMh0B_hcBSm9cq02aQlyDHdGJv5fjmcV#scrollTo=NGznLCN7bHOg) on Google Colab provides an interactive demonstration of how the bending impacts the donut images.\n",
    "\n",
    "If you run every cell (this takes a minute or two) and scroll down to the bottom, you will see plots of the \"wavefront\", and the intra- and extra-focal donut images.\n",
    "Above these are fields where you can change the position of the donuts, as well as the mirror bending (Z4-Z34).\n",
    "Try playing around with these to see how the donuts change.\n",
    "\n",
    "This won't matter for what we are doing with AuxTel, but it is cool to see."
   ]
  }
 ],
 "metadata": {
  "kernelspec": {
   "display_name": "Python 3.10.6 ('auxtel_aos')",
   "language": "python",
   "name": "python3"
  },
  "language_info": {
   "codemirror_mode": {
    "name": "ipython",
    "version": 3
   },
   "file_extension": ".py",
   "mimetype": "text/x-python",
   "name": "python",
   "nbconvert_exporter": "python",
   "pygments_lexer": "ipython3",
   "version": "3.10.6"
  },
  "orig_nbformat": 4,
  "vscode": {
   "interpreter": {
    "hash": "b2f2e3a59cdaccd974760f03ee737e58aa0c4af8a37541876996d117f8d10212"
   }
  }
 },
 "nbformat": 4,
 "nbformat_minor": 2
}
