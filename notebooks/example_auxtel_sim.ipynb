{
 "cells": [
  {
   "cell_type": "markdown",
   "metadata": {},
   "source": [
    "This notebook will demonstrate how to simulate images for the Rubin Auxiliary Telescope (aka AuxTel or AT).\n",
    "\n",
    "Our simulations will depend heavily on two packages:\n",
    "- `galsim` which is an astronomical image simulation toolkit\n",
    "- `batoid` which is a raytracing package that we use to simuate the optics of the telescope\n",
    "\n",
    "We will also use `wfsim`, which is a little wrapper package that connects elements of `galsim` and `batoid`, making it easy to quickly simulate images for the AOS.\n",
    "Essentially, `galsim` is used to simulate the atmosphere and sensors, while `batoid` is used to simulate the optics of the telescope (i.e. the mirrors, lenses, etc.).\n",
    "\n",
    "Let's import these packages (plus `numpy` and `matplotlib`):"
   ]
  },
  {
   "cell_type": "code",
   "execution_count": 1,
   "metadata": {},
   "outputs": [],
   "source": [
    "import numpy as np # standard package for doing calculations\n",
    "import matplotlib.pyplot as plt # standard package for plotting\n",
    "\n",
    "import batoid\n",
    "import galsim\n",
    "import wfsim"
   ]
  },
  {
   "cell_type": "markdown",
   "metadata": {},
   "source": [
    "First, let's create a `batoid` simulator for the unperturbed AuxTel:"
   ]
  },
  {
   "cell_type": "code",
   "execution_count": 2,
   "metadata": {},
   "outputs": [],
   "source": [
    "auxtel0 = batoid.Optic.fromYaml(\"AuxTel.yaml\")"
   ]
  },
  {
   "cell_type": "markdown",
   "metadata": {},
   "source": [
    "Let's also load the bandpass we will be observing through.\n",
    "We will assume the LSST r band."
   ]
  },
  {
   "cell_type": "code",
   "execution_count": 3,
   "metadata": {},
   "outputs": [],
   "source": [
    "bandpass = galsim.Bandpass(\"LSST_r.dat\", wave_type='nm')"
   ]
  },
  {
   "cell_type": "markdown",
   "metadata": {},
   "source": [
    "Now let's simulate an in-focus star at the center of the focal plane.\n",
    "To do that, we need to set observations and atmospheric parameters.\n",
    "Read the comments below to get an idea for what each parameter means."
   ]
  },
  {
   "cell_type": "code",
   "execution_count": 4,
   "metadata": {},
   "outputs": [],
   "source": [
    "# parameters associated with the observing conditions\n",
    "obs_params ={\n",
    "    # zenith=0 means straight up, while zenith=90 is the horizon\n",
    "    # greater zenith angle means more atmospheric turbulence\n",
    "    \"zenith\": 30 * galsim.degrees,\n",
    "\n",
    "    # raw_seeing sets how much atmospheric turbulence there is at zenith=0\n",
    "    # wfsim uses this to calculate how much turbulence there is at \n",
    "    # the zenith angle given above\n",
    "    \"raw_seeing\": 0.7 * galsim.arcsec,\n",
    "\n",
    "    # these next three parameters set attributes of the atmosphere, which\n",
    "    # help determine how much turbulence there is\n",
    "    \"temperature\": 293, # Kelvin\n",
    "    \"pressure\": 69, # kPa\n",
    "    \"H2O_pressure\": 1, # kPa\n",
    "\n",
    "    # wavelength of the observed light. this is important because light of \n",
    "    # longer/shorter wavelength refracts less/more in the atmosphere\n",
    "    \"wavelength\": bandpass.effective_wavelength, # nanometers\n",
    "\n",
    "    # the AuxTel exposure time\n",
    "    \"exptime\": 30, # seconds\n",
    "}\n",
    "\n",
    "# parameters associated with computational aspects of simulating the atmosphere\n",
    "atm_params = {\n",
    "    \"screen_size\": 819.2,\n",
    "    \"screen_scale\": 0.1,\n",
    "    \"nproc\": 6,\n",
    "}"
   ]
  },
  {
   "cell_type": "markdown",
   "metadata": {},
   "source": [
    "Now we can create a `SimpleSimulator` with `wfsim`.\n",
    "This is the object we will use to simulate images.\n",
    "Because we will be creating many versions of `SimpleSimulator` in this notebook, I will write a function that creates `SimpleSimulator`'s with our set up."
   ]
  },
  {
   "cell_type": "code",
   "execution_count": 5,
   "metadata": {},
   "outputs": [],
   "source": [
    "def create_simulator(telescope: batoid.Optic) -> wfsim.SimpleSimulator:\n",
    "    \"\"\"Create a SimpleSimulator built on the provided telescope.\n",
    "\n",
    "    Uses the obs_params and atm_params defined earlier in this notebook.\n",
    "\n",
    "    Parameters\n",
    "    ----------\n",
    "    telescope: batoid.Optic\n",
    "        A batoid.Optic that describes the telescope.\n",
    "\n",
    "    Returns\n",
    "    -------\n",
    "    wfsim.SimpleSimulator\n",
    "        A SimpleSimulator built on the provided telescope, \n",
    "        using the previously defined settings.\n",
    "    \"\"\"\n",
    "    # create a random number generator\n",
    "    rng = np.random.default_rng(0)\n",
    "\n",
    "    # create the SimpleSimulator\n",
    "    simulator = wfsim.SimpleSimulator(\n",
    "        obs_params,\n",
    "        atm_params,\n",
    "        telescope,\n",
    "        bandpass,\n",
    "        shape=(512, 512),\n",
    "        rng=rng,\n",
    "    )\n",
    "\n",
    "    return simulator"
   ]
  },
  {
   "cell_type": "code",
   "execution_count": 6,
   "metadata": {},
   "outputs": [
    {
     "ename": "",
     "evalue": "",
     "output_type": "error",
     "traceback": [
      "\u001b[1;31mThe Kernel crashed while executing code in the the current cell or a previous cell. Please review the code in the cell(s) to identify a possible cause of the failure. Click <a href='https://aka.ms/vscodeJupyterKernelCrash'>here</a> for more info. View Jupyter <a href='command:jupyter.viewOutput'>log</a> for further details."
     ]
    },
    {
     "ename": "",
     "evalue": "",
     "output_type": "error",
     "traceback": [
      "\u001b[1;31mCanceled future for execute_request message before replies were done"
     ]
    }
   ],
   "source": [
    "infocus_simulator = create_simulator(auxtel0)"
   ]
  },
  {
   "cell_type": "markdown",
   "metadata": {},
   "source": [
    "#### To do: Simulate a star, with a position, temperature, flux, then add a background"
   ]
  },
  {
   "cell_type": "code",
   "execution_count": null,
   "metadata": {},
   "outputs": [],
   "source": []
  },
  {
   "cell_type": "markdown",
   "metadata": {},
   "source": [
    "#### To do: Plot the star. Talk about how it's small because it is in focus."
   ]
  },
  {
   "cell_type": "code",
   "execution_count": null,
   "metadata": {},
   "outputs": [],
   "source": []
  },
  {
   "cell_type": "markdown",
   "metadata": {},
   "source": [
    "#### To do: push the telescope out of focus, and plot simulate the star again."
   ]
  },
  {
   "cell_type": "code",
   "execution_count": null,
   "metadata": {},
   "outputs": [],
   "source": []
  },
  {
   "cell_type": "markdown",
   "metadata": {},
   "source": [
    "#### To do: now perturb the telescope, and simulate again"
   ]
  },
  {
   "cell_type": "code",
   "execution_count": null,
   "metadata": {},
   "outputs": [],
   "source": []
  },
  {
   "cell_type": "markdown",
   "metadata": {},
   "source": [
    "#### To do: wrap up and tell Dominik to play around with different perturbation sizes"
   ]
  },
  {
   "cell_type": "markdown",
   "metadata": {},
   "source": [
    "For these simulations, we have only concerned ourselves with optical misalignment.\n",
    "However, for the larger Rubin Telescope, we also need to worry about the bending of the mirrors.\n",
    "[This notebook](https://colab.research.google.com/drive/1YMh0B_hcBSm9cq02aQlyDHdGJv5fjmcV#scrollTo=NGznLCN7bHOg) on Google Colab provides an interactive demonstration of how the bending impacts the donut images.\n",
    "\n",
    "If you run every cell (this takes a minute or two) and scroll down to the bottom, you will see plots of the \"wavefront\", and the intra- and extra-focal donut images.\n",
    "Above these are fields where you can change the position of the donuts, as well as the mirror bending (Z4-Z34).\n",
    "Try playing around with these to see how the donuts change.\n",
    "\n",
    "This won't matter for what we are doing with AuxTel, but it is cool to see."
   ]
  }
 ],
 "metadata": {
  "kernelspec": {
   "display_name": "Python 3.10.6 ('auxtel_aos')",
   "language": "python",
   "name": "python3"
  },
  "language_info": {
   "codemirror_mode": {
    "name": "ipython",
    "version": 3
   },
   "file_extension": ".py",
   "mimetype": "text/x-python",
   "name": "python",
   "nbconvert_exporter": "python",
   "pygments_lexer": "ipython3",
   "version": "3.10.6"
  },
  "orig_nbformat": 4,
  "vscode": {
   "interpreter": {
    "hash": "b2f2e3a59cdaccd974760f03ee737e58aa0c4af8a37541876996d117f8d10212"
   }
  }
 },
 "nbformat": 4,
 "nbformat_minor": 2
}
