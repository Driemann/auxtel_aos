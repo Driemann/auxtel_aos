{
 "cells": [
  {
   "cell_type": "code",
   "execution_count": 1,
   "id": "414f71c7-3d27-4a85-af0e-85f16171b17a",
   "metadata": {},
   "outputs": [
    {
     "ename": "NameError",
     "evalue": "name 'WaveNet' is not defined",
     "output_type": "error",
     "traceback": [
      "\u001b[0;31m---------------------------------------------------------------------------\u001b[0m",
      "\u001b[0;31mNameError\u001b[0m                                 Traceback (most recent call last)",
      "\u001b[0;32m<ipython-input-1-c7a75707da93>\u001b[0m in \u001b[0;36m<module>\u001b[0;34m\u001b[0m\n\u001b[0;32m----> 1\u001b[0;31m \u001b[0mWaveNet\u001b[0m\u001b[0;34m.\u001b[0m\u001b[0mload_from_checkpoint\u001b[0m\u001b[0;34m(\u001b[0m\u001b[0;34m'.../ml-aos/ml_aos/lighting-logs/version_1/checkpoints/epoch=96-step=14647.ckpt'\u001b[0m\u001b[0;34m)\u001b[0m\u001b[0;34m\u001b[0m\u001b[0;34m\u001b[0m\u001b[0m\n\u001b[0m",
      "\u001b[0;31mNameError\u001b[0m: name 'WaveNet' is not defined"
     ]
    }
   ],
   "source": [
    "WaveNet.load_from_checkpoint('.../ml-aos/ml_aos/lighting-logs/version_1/checkpoints/epoch=96-step=14647.ckpt')"
   ]
  },
  {
   "cell_type": "code",
   "execution_count": 2,
   "id": "6b567c75-a071-4d50-95b7-d1e55acd349f",
   "metadata": {},
   "outputs": [
    {
     "ename": "ModuleNotFoundError",
     "evalue": "No module named 'ml_aos'",
     "output_type": "error",
     "traceback": [
      "\u001b[0;31m---------------------------------------------------------------------------\u001b[0m",
      "\u001b[0;31mModuleNotFoundError\u001b[0m                       Traceback (most recent call last)",
      "\u001b[0;32m<ipython-input-2-774865fda30e>\u001b[0m in \u001b[0;36m<module>\u001b[0;34m\u001b[0m\n\u001b[0;32m----> 1\u001b[0;31m \u001b[0;32mfrom\u001b[0m \u001b[0mml_aos\u001b[0m\u001b[0;34m.\u001b[0m\u001b[0mlightning\u001b[0m \u001b[0;32mimport\u001b[0m \u001b[0mWaveNet\u001b[0m\u001b[0;34m\u001b[0m\u001b[0;34m\u001b[0m\u001b[0m\n\u001b[0m",
      "\u001b[0;31mModuleNotFoundError\u001b[0m: No module named 'ml_aos'"
     ]
    }
   ],
   "source": [
    "from ml_aos.lightning import WaveNet"
   ]
  },
  {
   "cell_type": "code",
   "execution_count": null,
   "id": "70ac5bdc-b30c-4bef-96cb-1a47b2851e9c",
   "metadata": {},
   "outputs": [],
   "source": []
  }
 ],
 "metadata": {
  "kernelspec": {
   "display_name": "Python 3",
   "language": "python",
   "name": "python3"
  },
  "language_info": {
   "codemirror_mode": {
    "name": "ipython",
    "version": 3
   },
   "file_extension": ".py",
   "mimetype": "text/x-python",
   "name": "python",
   "nbconvert_exporter": "python",
   "pygments_lexer": "ipython3",
   "version": "3.7.6"
  }
 },
 "nbformat": 4,
 "nbformat_minor": 5
}
